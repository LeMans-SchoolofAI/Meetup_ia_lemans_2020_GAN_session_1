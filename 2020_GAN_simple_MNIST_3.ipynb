{
  "nbformat": 4,
  "nbformat_minor": 0,
  "metadata": {
    "colab": {
      "name": "2020-GAN-simple-MNIST-3.ipynb",
      "provenance": [],
      "collapsed_sections": []
    },
    "kernelspec": {
      "name": "python3",
      "display_name": "Python 3"
    }
  },
  "cells": [
    {
      "cell_type": "markdown",
      "metadata": {
        "id": "WbG4-QkYF2U2"
      },
      "source": [
        "# Simple GAN - MNIST\n",
        "source : https://towardsdatascience.com/demystifying-gans-in-tensorflow-2-0-9890834ab3d9"
      ]
    },
    {
      "cell_type": "code",
      "metadata": {
        "id": "ZhdyAswShmJW"
      },
      "source": [
        "import tensorflow as tf\n",
        "import numpy as np\n",
        "import matplotlib.pyplot as plt\n",
        "from tensorflow import keras"
      ],
      "execution_count": 1,
      "outputs": []
    },
    {
      "cell_type": "markdown",
      "metadata": {
        "id": "LxNQG6QOh9_u"
      },
      "source": [
        "Global Parameters"
      ]
    },
    {
      "cell_type": "code",
      "metadata": {
        "id": "WeO4khxphtXY"
      },
      "source": [
        "BATCH_SIZE = 256\n",
        "BUFFER_SIZE = 60000\n",
        "EPOCHES = 300\n",
        "OUTPUT_DIR = \"img\" # The output directory where the images of the generator a stored during training"
      ],
      "execution_count": 2,
      "outputs": []
    },
    {
      "cell_type": "markdown",
      "metadata": {
        "id": "v-BbuyOKh_Qf"
      },
      "source": [
        "Loading the MNIST dataset"
      ]
    },
    {
      "cell_type": "code",
      "metadata": {
        "id": "9t1lKL7KiB8Q",
        "outputId": "2c1554b2-3a8e-4c75-df30-d80e9636926a",
        "colab": {
          "base_uri": "https://localhost:8080/",
          "height": 316
        }
      },
      "source": [
        "mnist = keras.datasets.mnist\n",
        "(train_images, train_labels), (test_images, test_labels) = mnist.load_data()\n",
        "train_images.shape\n",
        "plt.imshow(train_images[1], cmap = \"gray\")\n"
      ],
      "execution_count": 3,
      "outputs": [
        {
          "output_type": "stream",
          "text": [
            "Downloading data from https://storage.googleapis.com/tensorflow/tf-keras-datasets/mnist.npz\n",
            "11493376/11490434 [==============================] - 0s 0us/step\n"
          ],
          "name": "stdout"
        },
        {
          "output_type": "execute_result",
          "data": {
            "text/plain": [
              "<matplotlib.image.AxesImage at 0x7f3e8cb1fcf8>"
            ]
          },
          "metadata": {
            "tags": []
          },
          "execution_count": 3
        },
        {
          "output_type": "display_data",
          "data": {
            "image/png": "[encoded data removed]",
            "text/plain": [
              "<Figure size 432x288 with 1 Axes>"
            ]
          },
          "metadata": {
            "tags": [],
            "needs_background": "light"
          }
        }
      ]
    },
    {
      "cell_type": "code",
      "metadata": {
        "id": "cQesoTkNiST8"
      },
      "source": [
        "train_images = train_images.astype(\"float32\")\n",
        "train_images = (train_images - 127.5) / 127.5\n",
        "train_dataset = tf.data.Dataset.from_tensor_slices(train_images.reshape(train_images.shape[0],784)).shuffle(BUFFER_SIZE).batch(BATCH_SIZE)"
      ],
      "execution_count": 4,
      "outputs": []
    },
    {
      "cell_type": "markdown",
      "metadata": {
        "id": "NGVXO7m8idJU"
      },
      "source": [
        "\n",
        "Generator Network"
      ]
    },
    {
      "cell_type": "code",
      "metadata": {
        "id": "WNw9orBaidph"
      },
      "source": [
        "class Generator(keras.Model):\n",
        "    \n",
        "    def __init__(self, random_noise_size = 100):\n",
        "        super().__init__(name='generator')\n",
        "        #layers\n",
        "        self.input_layer = keras.layers.Dense(units = random_noise_size)\n",
        "        self.dense_1 = keras.layers.Dense(units = 128)\n",
        "        self.leaky_1 =  keras.layers.LeakyReLU(alpha = 0.01)\n",
        "        self.dense_2 = keras.layers.Dense(units = 128)\n",
        "        self.leaky_2 = keras.layers.LeakyReLU(alpha = 0.01)\n",
        "        self.dense_3 = keras.layers.Dense(units = 256)\n",
        "        self.leaky_3 = keras.layers.LeakyReLU(alpha = 0.01)\n",
        "        self.output_layer = keras.layers.Dense(units=784, activation = \"tanh\")\n",
        "        \n",
        "    def call(self, input_tensor):\n",
        "        ## Definition of Forward Pass\n",
        "        x = self.input_layer(input_tensor)\n",
        "        x = self.dense_1(x)\n",
        "        x = self.leaky_1(x)\n",
        "        x = self.dense_2(x)\n",
        "        x = self.leaky_2(x)\n",
        "        x = self.dense_3(x)\n",
        "        x = self.leaky_3(x)\n",
        "        return  self.output_layer(x)\n",
        "    \n",
        "    def generate_noise(self,batch_size, random_noise_size):\n",
        "        return np.random.uniform(-1,1, size = (batch_size, random_noise_size))"
      ],
      "execution_count": 5,
      "outputs": []
    },
    {
      "cell_type": "markdown",
      "metadata": {
        "id": "RbeW9QBMii8q"
      },
      "source": [
        "\n",
        "Objective Function"
      ]
    },
    {
      "cell_type": "code",
      "metadata": {
        "id": "DB_gF4eiinvu"
      },
      "source": [
        "cross_entropy = tf.keras.losses.BinaryCrossentropy(from_logits = True)"
      ],
      "execution_count": 6,
      "outputs": []
    },
    {
      "cell_type": "code",
      "metadata": {
        "id": "mZ_PtoyfirFk"
      },
      "source": [
        "def generator_objective(dx_of_gx):\n",
        "    # Labels are true here because generator thinks he produces real images. \n",
        "    return cross_entropy(tf.ones_like(dx_of_gx), dx_of_gx)"
      ],
      "execution_count": 7,
      "outputs": []
    },
    {
      "cell_type": "markdown",
      "metadata": {
        "id": "dtO8Rc_pixyR"
      },
      "source": [
        "\n",
        "Plotting The Noise (Fake Image)"
      ]
    },
    {
      "cell_type": "code",
      "metadata": {
        "id": "Mt2gfKnmiylR",
        "outputId": "f1f3c339-9231-4705-b520-1f80e7b2cd2b",
        "colab": {
          "base_uri": "https://localhost:8080/",
          "height": 404
        }
      },
      "source": [
        "generator = Generator()\n",
        "fake_image = generator(np.random.uniform(-1,1, size =(1,100)))\n",
        "fake_image = tf.reshape(fake_image, shape = (28,28))\n",
        "plt.imshow(fake_image, cmap = \"gray\")"
      ],
      "execution_count": 8,
      "outputs": [
        {
          "output_type": "stream",
          "text": [
            "WARNING:tensorflow:Layer generator is casting an input tensor from dtype float64 to the layer's dtype of float32, which is new behavior in TensorFlow 2.  The layer has dtype float32 because its dtype defaults to floatx.\n",
            "\n",
            "If you intended to run this layer in float32, you can safely ignore this warning. If in doubt, this warning is likely only an issue if you are porting a TensorFlow 1.X model to TensorFlow 2.\n",
            "\n",
            "To change all layers to have dtype float64 by default, call `tf.keras.backend.set_floatx('float64')`. To change just this layer, pass dtype='float64' to the layer constructor. If you are the author of this layer, you can disable autocasting by passing autocast=False to the base Layer constructor.\n",
            "\n"
          ],
          "name": "stdout"
        },
        {
          "output_type": "execute_result",
          "data": {
            "text/plain": [
              "<matplotlib.image.AxesImage at 0x7f3e85f113c8>"
            ]
          },
          "metadata": {
            "tags": []
          },
          "execution_count": 8
        },
        {
          "output_type": "display_data",
          "data": {
            "image/png": "[encoded data removed]",
            "text/plain": [
              "<Figure size 432x288 with 1 Axes>"
            ]
          },
          "metadata": {
            "tags": [],
            "needs_background": "light"
          }
        }
      ]
    },
    {
      "cell_type": "markdown",
      "metadata": {
        "id": "jDtglesbjA-S"
      },
      "source": [
        "\n",
        "Discriminator Network"
      ]
    },
    {
      "cell_type": "code",
      "metadata": {
        "id": "jAu9erJDjB04"
      },
      "source": [
        "class Discriminator(keras.Model):\n",
        "    def __init__(self):\n",
        "        super().__init__(name = \"discriminator\")\n",
        "        \n",
        "        #Layers\n",
        "        self.input_layer = keras.layers.Dense(units = 784)\n",
        "        self.dense_1 = keras.layers.Dense(units = 128)\n",
        "        self.leaky_1 =  keras.layers.LeakyReLU(alpha = 0.01)\n",
        "        self.dense_2 = keras.layers.Dense(units = 128)\n",
        "        self.leaky_2 = keras.layers.LeakyReLU(alpha = 0.01)\n",
        "        self.dense_3 = keras.layers.Dense(units = 128)\n",
        "        self.leaky_3 = keras.layers.LeakyReLU(alpha = 0.01)\n",
        "        \n",
        "        # This neuron tells us if the input is fake or real\n",
        "        self.logits = keras.layers.Dense(units = 1)  \n",
        "    def call(self, input_tensor):\n",
        "          ## Definition of Forward Pass\n",
        "        x = self.input_layer(input_tensor)\n",
        "        x = self.dense_1(x)\n",
        "        x = self.leaky_1(x)\n",
        "        x = self.leaky_2(x)\n",
        "        x = self.leaky_3(x)\n",
        "        x = self.leaky_3(x)\n",
        "        x = self.logits(x)\n",
        "        return x"
      ],
      "execution_count": 9,
      "outputs": []
    },
    {
      "cell_type": "code",
      "metadata": {
        "id": "csOySWvCjFYx"
      },
      "source": [
        "discriminator = Discriminator()"
      ],
      "execution_count": 10,
      "outputs": []
    },
    {
      "cell_type": "markdown",
      "metadata": {
        "id": "PJXtxgBWjMll"
      },
      "source": [
        "Objective Function\n"
      ]
    },
    {
      "cell_type": "code",
      "metadata": {
        "id": "AAPgb6LSjJqG"
      },
      "source": [
        "def discriminator_objective(d_x, g_z, smoothing_factor = 0.9):\n",
        "    \"\"\"\n",
        "    d_x = real output\n",
        "    g_z = fake output\n",
        "    \"\"\"\n",
        "    # If we feed the discriminator with real images, \n",
        "    # we assume they all are the right pictures --> Because of that label == 1\n",
        "    real_loss = cross_entropy(tf.ones_like(d_x) * smoothing_factor, d_x) \n",
        "    \n",
        "    # Each noise we feed in are fakes image --> Because of that labels are 0\n",
        "    fake_loss = cross_entropy(tf.zeros_like(g_z), g_z) \n",
        "    \n",
        "    total_loss = real_loss + fake_loss\n",
        "    \n",
        "    return total_loss"
      ],
      "execution_count": 11,
      "outputs": []
    },
    {
      "cell_type": "markdown",
      "metadata": {
        "id": "2CoOrLLxjVK5"
      },
      "source": [
        "Optimizer"
      ]
    },
    {
      "cell_type": "code",
      "metadata": {
        "id": "zPAKQfWtjWtO"
      },
      "source": [
        "generator_optimizer = keras.optimizers.RMSprop()\n",
        "discriminator_optimizer = keras.optimizers.RMSprop()"
      ],
      "execution_count": 12,
      "outputs": []
    },
    {
      "cell_type": "markdown",
      "metadata": {
        "id": "f-znXSk1jcGv"
      },
      "source": [
        "Training Functions"
      ]
    },
    {
      "cell_type": "code",
      "metadata": {
        "id": "oUKM-DZhjc23"
      },
      "source": [
        "@tf.function()\n",
        "def training_step(generator: Generator, discriminator: Discriminator, images:np.ndarray , k:int =1, batch_size = 32):\n",
        "    for _ in range(k):\n",
        "         with tf.GradientTape() as gen_tape, tf.GradientTape() as disc_tape:\n",
        "            noise = generator.generate_noise(batch_size, 100)\n",
        "            g_z = generator(noise)\n",
        "            d_x_true = discriminator(images) # Trainable?\n",
        "            d_x_fake = discriminator(g_z) # dx_of_gx\n",
        "\n",
        "            discriminator_loss = discriminator_objective(d_x_true, d_x_fake)\n",
        "            # Adjusting Gradient of Discriminator\n",
        "            gradients_of_discriminator = disc_tape.gradient(discriminator_loss, discriminator.trainable_variables)\n",
        "            discriminator_optimizer.apply_gradients(zip(gradients_of_discriminator, discriminator.trainable_variables)) # Takes a list of gradient and variables pairs\n",
        "            \n",
        "              \n",
        "            generator_loss = generator_objective(d_x_fake)           \n",
        "            # Adjusting Gradient of Generator\n",
        "            gradients_of_generator = gen_tape.gradient(generator_loss, generator.trainable_variables)\n",
        "            generator_optimizer.apply_gradients(zip(gradients_of_generator, generator.trainable_variables))"
      ],
      "execution_count": 20,
      "outputs": []
    },
    {
      "cell_type": "code",
      "metadata": {
        "id": "DWHwrxwkjfxq"
      },
      "source": [
        "seed = np.random.uniform(-1,1, size = (1, 100)) # generating some noise for the training"
      ],
      "execution_count": 15,
      "outputs": []
    },
    {
      "cell_type": "code",
      "metadata": {
        "id": "TiqyzWP9jiTD"
      },
      "source": [
        "# Just to make sure the output directory exists..\n",
        "import os\n",
        "if not os.path.exists(OUTPUT_DIR):\n",
        "    os.makedirs(OUTPUT_DIR)"
      ],
      "execution_count": 16,
      "outputs": []
    },
    {
      "cell_type": "code",
      "metadata": {
        "id": "79v40pcejmed"
      },
      "source": [
        "def training(dataset, epoches):\n",
        "    for epoch in range(epoches):\n",
        "        for batch in dataset: \n",
        "            training_step(generator, discriminator, batch ,batch_size = BATCH_SIZE, k = 1)\n",
        "            \n",
        "        ## After ith epoch plot image \n",
        "        if (epoch % 50) == 0: \n",
        "            fake_image = tf.reshape(generator(seed), shape = (28,28))\n",
        "            print(\"{}/{} epoches\".format(epoch, epoches))\n",
        "            #plt.imshow(fake_image, cmap = \"gray\")\n",
        "            plt.imsave(\"{}/{}.png\".format(OUTPUT_DIR,epoch),fake_image, cmap = \"gray\")\n",
        "        "
      ],
      "execution_count": 21,
      "outputs": []
    },
    {
      "cell_type": "code",
      "metadata": {
        "id": "rdLylQqH1IPS",
        "outputId": "25723ced-a6b3-4399-be2b-9406fe7a7b03",
        "colab": {
          "base_uri": "https://localhost:8080/",
          "height": 282
        }
      },
      "source": [
        "fake_image = generator(np.random.uniform(-1,1, size = (1, 100)))\n",
        "plt.imshow(tf.reshape(fake_image, shape = (28,28)), cmap=\"gray\")"
      ],
      "execution_count": 18,
      "outputs": [
        {
          "output_type": "execute_result",
          "data": {
            "text/plain": [
              "<matplotlib.image.AxesImage at 0x7f3e85e8ed68>"
            ]
          },
          "metadata": {
            "tags": []
          },
          "execution_count": 18
        },
        {
          "output_type": "display_data",
          "data": {
            "image/png": "[encoded data removed]",
            "text/plain": [
              "<Figure size 432x288 with 1 Axes>"
            ]
          },
          "metadata": {
            "tags": [],
            "needs_background": "light"
          }
        }
      ]
    },
    {
      "cell_type": "code",
      "metadata": {
        "id": "2_qczSekjo-J",
        "outputId": "dba20d4b-27f9-4ae8-f860-fa4bfba33050",
        "colab": {
          "base_uri": "https://localhost:8080/",
          "height": 153
        }
      },
      "source": [
        "%%time\n",
        "training(train_dataset, EPOCHES)"
      ],
      "execution_count": 22,
      "outputs": [
        {
          "output_type": "stream",
          "text": [
            "0/300 epoches\n",
            "50/300 epoches\n",
            "100/300 epoches\n",
            "150/300 epoches\n",
            "200/300 epoches\n",
            "250/300 epoches\n",
            "CPU times: user 1h 59min 51s, sys: 5min 24s, total: 2h 5min 15s\n",
            "Wall time: 1h 6min\n"
          ],
          "name": "stdout"
        }
      ]
    },
    {
      "cell_type": "markdown",
      "metadata": {
        "id": "vo6YeVKzjsNn"
      },
      "source": [
        "\n",
        "Testing the Generator"
      ]
    },
    {
      "cell_type": "code",
      "metadata": {
        "id": "M_3QCA-ljuYx",
        "outputId": "f0467033-2e74-49af-9594-419d5a7980cd",
        "colab": {
          "base_uri": "https://localhost:8080/",
          "height": 282
        }
      },
      "source": [
        "fake_image = generator(np.random.uniform(-1,1, size = (1, 100)))\n",
        "plt.imshow(tf.reshape(fake_image, shape = (28,28)), cmap=\"gray\")"
      ],
      "execution_count": 56,
      "outputs": [
        {
          "output_type": "execute_result",
          "data": {
            "text/plain": [
              "<matplotlib.image.AxesImage at 0x7f3e83f9afd0>"
            ]
          },
          "metadata": {
            "tags": []
          },
          "execution_count": 56
        },
        {
          "output_type": "display_data",
          "data": {
            "image/png": "[encoded data removed]",
            "text/plain": [
              "<Figure size 432x288 with 1 Axes>"
            ]
          },
          "metadata": {
            "tags": [],
            "needs_background": "light"
          }
        }
      ]
    }
  ]
}